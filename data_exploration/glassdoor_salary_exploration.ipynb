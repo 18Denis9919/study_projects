{
 "cells": [
  {
   "cell_type": "code",
   "execution_count": 1,
   "metadata": {},
   "outputs": [],
   "source": [
    "import pandas as pd\n",
    "import matplotlib.pyplot as plt \n",
    "import seaborn as sns"
   ]
  },
  {
   "cell_type": "code",
   "execution_count": 2,
   "metadata": {},
   "outputs": [],
   "source": [
    "df = pd.read_csv('../datasets/salary_data_cleaned.csv')"
   ]
  },
  {
   "cell_type": "code",
   "execution_count": 3,
   "metadata": {},
   "outputs": [
    {
     "data": {
      "text/html": [
       "<div>\n",
       "<style scoped>\n",
       "    .dataframe tbody tr th:only-of-type {\n",
       "        vertical-align: middle;\n",
       "    }\n",
       "\n",
       "    .dataframe tbody tr th {\n",
       "        vertical-align: top;\n",
       "    }\n",
       "\n",
       "    .dataframe thead th {\n",
       "        text-align: right;\n",
       "    }\n",
       "</style>\n",
       "<table border=\"1\" class=\"dataframe\">\n",
       "  <thead>\n",
       "    <tr style=\"text-align: right;\">\n",
       "      <th></th>\n",
       "      <th>Job Title</th>\n",
       "      <th>Salary Estimate</th>\n",
       "      <th>Job Description</th>\n",
       "      <th>Rating</th>\n",
       "      <th>Company Name</th>\n",
       "      <th>Location</th>\n",
       "      <th>Headquarters</th>\n",
       "      <th>Size</th>\n",
       "      <th>Founded</th>\n",
       "      <th>Type of ownership</th>\n",
       "      <th>...</th>\n",
       "      <th>age</th>\n",
       "      <th>python</th>\n",
       "      <th>R</th>\n",
       "      <th>spark</th>\n",
       "      <th>tableau</th>\n",
       "      <th>excel</th>\n",
       "      <th>simple_title</th>\n",
       "      <th>seniority</th>\n",
       "      <th>desc_length</th>\n",
       "      <th>num_comp</th>\n",
       "    </tr>\n",
       "  </thead>\n",
       "  <tbody>\n",
       "    <tr>\n",
       "      <th>0</th>\n",
       "      <td>Data Scientist</td>\n",
       "      <td>$53K-$91K (Glassdoor est.)</td>\n",
       "      <td>Data Scientist\\nLocation: Albuquerque, NM\\nEdu...</td>\n",
       "      <td>3.8</td>\n",
       "      <td>Tecolote Research</td>\n",
       "      <td>Albuquerque, NM</td>\n",
       "      <td>Goleta, CA</td>\n",
       "      <td>501 to 1000 employees</td>\n",
       "      <td>1973</td>\n",
       "      <td>Company - Private</td>\n",
       "      <td>...</td>\n",
       "      <td>48</td>\n",
       "      <td>1</td>\n",
       "      <td>0</td>\n",
       "      <td>0</td>\n",
       "      <td>1</td>\n",
       "      <td>1</td>\n",
       "      <td>data scientist</td>\n",
       "      <td>na</td>\n",
       "      <td>2536</td>\n",
       "      <td>0</td>\n",
       "    </tr>\n",
       "    <tr>\n",
       "      <th>1</th>\n",
       "      <td>Healthcare Data Scientist</td>\n",
       "      <td>$63K-$112K (Glassdoor est.)</td>\n",
       "      <td>What You Will Do:\\n\\nI. General Summary\\n\\nThe...</td>\n",
       "      <td>3.4</td>\n",
       "      <td>University of Maryland Medical System</td>\n",
       "      <td>Linthicum, MD</td>\n",
       "      <td>Baltimore, MD</td>\n",
       "      <td>10000+ employees</td>\n",
       "      <td>1984</td>\n",
       "      <td>Other Organization</td>\n",
       "      <td>...</td>\n",
       "      <td>37</td>\n",
       "      <td>1</td>\n",
       "      <td>0</td>\n",
       "      <td>0</td>\n",
       "      <td>0</td>\n",
       "      <td>0</td>\n",
       "      <td>data scientist</td>\n",
       "      <td>na</td>\n",
       "      <td>4783</td>\n",
       "      <td>0</td>\n",
       "    </tr>\n",
       "    <tr>\n",
       "      <th>2</th>\n",
       "      <td>Data Scientist</td>\n",
       "      <td>$80K-$90K (Glassdoor est.)</td>\n",
       "      <td>KnowBe4, Inc. is a high growth information sec...</td>\n",
       "      <td>4.8</td>\n",
       "      <td>KnowBe4</td>\n",
       "      <td>Clearwater, FL</td>\n",
       "      <td>Clearwater, FL</td>\n",
       "      <td>501 to 1000 employees</td>\n",
       "      <td>2010</td>\n",
       "      <td>Company - Private</td>\n",
       "      <td>...</td>\n",
       "      <td>11</td>\n",
       "      <td>1</td>\n",
       "      <td>0</td>\n",
       "      <td>1</td>\n",
       "      <td>0</td>\n",
       "      <td>1</td>\n",
       "      <td>data scientist</td>\n",
       "      <td>na</td>\n",
       "      <td>3461</td>\n",
       "      <td>0</td>\n",
       "    </tr>\n",
       "    <tr>\n",
       "      <th>3</th>\n",
       "      <td>Data Scientist</td>\n",
       "      <td>$56K-$97K (Glassdoor est.)</td>\n",
       "      <td>*Organization and Job ID**\\nJob ID: 310709\\n\\n...</td>\n",
       "      <td>3.8</td>\n",
       "      <td>PNNL</td>\n",
       "      <td>Richland, WA</td>\n",
       "      <td>Richland, WA</td>\n",
       "      <td>1001 to 5000 employees</td>\n",
       "      <td>1965</td>\n",
       "      <td>Government</td>\n",
       "      <td>...</td>\n",
       "      <td>56</td>\n",
       "      <td>1</td>\n",
       "      <td>0</td>\n",
       "      <td>0</td>\n",
       "      <td>0</td>\n",
       "      <td>0</td>\n",
       "      <td>data scientist</td>\n",
       "      <td>na</td>\n",
       "      <td>3883</td>\n",
       "      <td>3</td>\n",
       "    </tr>\n",
       "    <tr>\n",
       "      <th>4</th>\n",
       "      <td>Data Scientist</td>\n",
       "      <td>$86K-$143K (Glassdoor est.)</td>\n",
       "      <td>Data Scientist\\nAffinity Solutions / Marketing...</td>\n",
       "      <td>2.9</td>\n",
       "      <td>Affinity Solutions</td>\n",
       "      <td>New York, NY</td>\n",
       "      <td>New York, NY</td>\n",
       "      <td>51 to 200 employees</td>\n",
       "      <td>1998</td>\n",
       "      <td>Company - Private</td>\n",
       "      <td>...</td>\n",
       "      <td>23</td>\n",
       "      <td>1</td>\n",
       "      <td>0</td>\n",
       "      <td>0</td>\n",
       "      <td>0</td>\n",
       "      <td>1</td>\n",
       "      <td>data scientist</td>\n",
       "      <td>na</td>\n",
       "      <td>2728</td>\n",
       "      <td>3</td>\n",
       "    </tr>\n",
       "  </tbody>\n",
       "</table>\n",
       "<p>5 rows × 33 columns</p>\n",
       "</div>"
      ],
      "text/plain": [
       "                   Job Title              Salary Estimate  \\\n",
       "0             Data Scientist   $53K-$91K (Glassdoor est.)   \n",
       "1  Healthcare Data Scientist  $63K-$112K (Glassdoor est.)   \n",
       "2             Data Scientist   $80K-$90K (Glassdoor est.)   \n",
       "3             Data Scientist   $56K-$97K (Glassdoor est.)   \n",
       "4             Data Scientist  $86K-$143K (Glassdoor est.)   \n",
       "\n",
       "                                     Job Description  Rating  \\\n",
       "0  Data Scientist\\nLocation: Albuquerque, NM\\nEdu...     3.8   \n",
       "1  What You Will Do:\\n\\nI. General Summary\\n\\nThe...     3.4   \n",
       "2  KnowBe4, Inc. is a high growth information sec...     4.8   \n",
       "3  *Organization and Job ID**\\nJob ID: 310709\\n\\n...     3.8   \n",
       "4  Data Scientist\\nAffinity Solutions / Marketing...     2.9   \n",
       "\n",
       "                            Company Name         Location    Headquarters  \\\n",
       "0                      Tecolote Research  Albuquerque, NM      Goleta, CA   \n",
       "1  University of Maryland Medical System    Linthicum, MD   Baltimore, MD   \n",
       "2                                KnowBe4   Clearwater, FL  Clearwater, FL   \n",
       "3                                   PNNL     Richland, WA    Richland, WA   \n",
       "4                     Affinity Solutions     New York, NY    New York, NY   \n",
       "\n",
       "                     Size  Founded   Type of ownership  ... age python  R  \\\n",
       "0   501 to 1000 employees     1973   Company - Private  ...  48      1  0   \n",
       "1        10000+ employees     1984  Other Organization  ...  37      1  0   \n",
       "2   501 to 1000 employees     2010   Company - Private  ...  11      1  0   \n",
       "3  1001 to 5000 employees     1965          Government  ...  56      1  0   \n",
       "4     51 to 200 employees     1998   Company - Private  ...  23      1  0   \n",
       "\n",
       "  spark  tableau  excel    simple_title  seniority  desc_length num_comp  \n",
       "0     0        1      1  data scientist         na         2536        0  \n",
       "1     0        0      0  data scientist         na         4783        0  \n",
       "2     1        0      1  data scientist         na         3461        0  \n",
       "3     0        0      0  data scientist         na         3883        3  \n",
       "4     0        0      1  data scientist         na         2728        3  \n",
       "\n",
       "[5 rows x 33 columns]"
      ]
     },
     "execution_count": 3,
     "metadata": {},
     "output_type": "execute_result"
    }
   ],
   "source": [
    "df.head()"
   ]
  },
  {
   "cell_type": "code",
   "execution_count": 4,
   "metadata": {},
   "outputs": [
    {
     "data": {
      "text/plain": [
       "Index(['Job Title', 'Salary Estimate', 'Job Description', 'Rating',\n",
       "       'Company Name', 'Location', 'Headquarters', 'Size', 'Founded',\n",
       "       'Type of ownership', 'Industry', 'Sector', 'Revenue', 'Competitors',\n",
       "       'hourly', 'employer_provided', 'min_salary', 'max_salary', 'avg_salary',\n",
       "       'jobs_state', 'headquarters_state', 'headquarters_abroad',\n",
       "       'same_location', 'age', 'python', 'R', 'spark', 'tableau', 'excel',\n",
       "       'simple_title', 'seniority', 'desc_length', 'num_comp'],\n",
       "      dtype='object')"
      ]
     },
     "execution_count": 4,
     "metadata": {},
     "output_type": "execute_result"
    }
   ],
   "source": [
    "df.columns"
   ]
  },
  {
   "cell_type": "code",
   "execution_count": 5,
   "metadata": {},
   "outputs": [
    {
     "data": {
      "text/html": [
       "<div>\n",
       "<style scoped>\n",
       "    .dataframe tbody tr th:only-of-type {\n",
       "        vertical-align: middle;\n",
       "    }\n",
       "\n",
       "    .dataframe tbody tr th {\n",
       "        vertical-align: top;\n",
       "    }\n",
       "\n",
       "    .dataframe thead th {\n",
       "        text-align: right;\n",
       "    }\n",
       "</style>\n",
       "<table border=\"1\" class=\"dataframe\">\n",
       "  <thead>\n",
       "    <tr style=\"text-align: right;\">\n",
       "      <th></th>\n",
       "      <th>Rating</th>\n",
       "      <th>Founded</th>\n",
       "      <th>hourly</th>\n",
       "      <th>employer_provided</th>\n",
       "      <th>min_salary</th>\n",
       "      <th>max_salary</th>\n",
       "      <th>avg_salary</th>\n",
       "      <th>headquarters_abroad</th>\n",
       "      <th>same_location</th>\n",
       "      <th>age</th>\n",
       "      <th>python</th>\n",
       "      <th>R</th>\n",
       "      <th>spark</th>\n",
       "      <th>tableau</th>\n",
       "      <th>excel</th>\n",
       "      <th>desc_length</th>\n",
       "      <th>num_comp</th>\n",
       "    </tr>\n",
       "  </thead>\n",
       "  <tbody>\n",
       "    <tr>\n",
       "      <th>count</th>\n",
       "      <td>742.000000</td>\n",
       "      <td>742.000000</td>\n",
       "      <td>742.000000</td>\n",
       "      <td>742.000000</td>\n",
       "      <td>742.000000</td>\n",
       "      <td>742.000000</td>\n",
       "      <td>742.000000</td>\n",
       "      <td>742.00000</td>\n",
       "      <td>742.000000</td>\n",
       "      <td>742.000000</td>\n",
       "      <td>742.000000</td>\n",
       "      <td>742.000000</td>\n",
       "      <td>742.000000</td>\n",
       "      <td>742.000000</td>\n",
       "      <td>742.000000</td>\n",
       "      <td>742.000000</td>\n",
       "      <td>742.000000</td>\n",
       "    </tr>\n",
       "    <tr>\n",
       "      <th>mean</th>\n",
       "      <td>3.618868</td>\n",
       "      <td>1837.154987</td>\n",
       "      <td>0.032345</td>\n",
       "      <td>0.022911</td>\n",
       "      <td>74.690027</td>\n",
       "      <td>128.103774</td>\n",
       "      <td>90.148922</td>\n",
       "      <td>0.08221</td>\n",
       "      <td>0.557951</td>\n",
       "      <td>47.524259</td>\n",
       "      <td>0.528302</td>\n",
       "      <td>0.002695</td>\n",
       "      <td>0.225067</td>\n",
       "      <td>0.199461</td>\n",
       "      <td>0.522911</td>\n",
       "      <td>3869.545822</td>\n",
       "      <td>1.053908</td>\n",
       "    </tr>\n",
       "    <tr>\n",
       "      <th>std</th>\n",
       "      <td>0.801210</td>\n",
       "      <td>497.183763</td>\n",
       "      <td>0.177034</td>\n",
       "      <td>0.149721</td>\n",
       "      <td>31.012311</td>\n",
       "      <td>45.286329</td>\n",
       "      <td>32.293208</td>\n",
       "      <td>0.27487</td>\n",
       "      <td>0.496965</td>\n",
       "      <td>53.839080</td>\n",
       "      <td>0.499535</td>\n",
       "      <td>0.051882</td>\n",
       "      <td>0.417908</td>\n",
       "      <td>0.399865</td>\n",
       "      <td>0.499812</td>\n",
       "      <td>1521.495868</td>\n",
       "      <td>1.384239</td>\n",
       "    </tr>\n",
       "    <tr>\n",
       "      <th>min</th>\n",
       "      <td>-1.000000</td>\n",
       "      <td>-1.000000</td>\n",
       "      <td>0.000000</td>\n",
       "      <td>0.000000</td>\n",
       "      <td>15.000000</td>\n",
       "      <td>16.000000</td>\n",
       "      <td>8.500000</td>\n",
       "      <td>0.00000</td>\n",
       "      <td>0.000000</td>\n",
       "      <td>-1.000000</td>\n",
       "      <td>0.000000</td>\n",
       "      <td>0.000000</td>\n",
       "      <td>0.000000</td>\n",
       "      <td>0.000000</td>\n",
       "      <td>0.000000</td>\n",
       "      <td>407.000000</td>\n",
       "      <td>0.000000</td>\n",
       "    </tr>\n",
       "    <tr>\n",
       "      <th>25%</th>\n",
       "      <td>3.300000</td>\n",
       "      <td>1939.000000</td>\n",
       "      <td>0.000000</td>\n",
       "      <td>0.000000</td>\n",
       "      <td>52.000000</td>\n",
       "      <td>96.000000</td>\n",
       "      <td>69.000000</td>\n",
       "      <td>0.00000</td>\n",
       "      <td>0.000000</td>\n",
       "      <td>12.000000</td>\n",
       "      <td>0.000000</td>\n",
       "      <td>0.000000</td>\n",
       "      <td>0.000000</td>\n",
       "      <td>0.000000</td>\n",
       "      <td>0.000000</td>\n",
       "      <td>2801.000000</td>\n",
       "      <td>0.000000</td>\n",
       "    </tr>\n",
       "    <tr>\n",
       "      <th>50%</th>\n",
       "      <td>3.700000</td>\n",
       "      <td>1988.000000</td>\n",
       "      <td>0.000000</td>\n",
       "      <td>0.000000</td>\n",
       "      <td>69.500000</td>\n",
       "      <td>124.000000</td>\n",
       "      <td>88.500000</td>\n",
       "      <td>0.00000</td>\n",
       "      <td>1.000000</td>\n",
       "      <td>25.000000</td>\n",
       "      <td>1.000000</td>\n",
       "      <td>0.000000</td>\n",
       "      <td>0.000000</td>\n",
       "      <td>0.000000</td>\n",
       "      <td>1.000000</td>\n",
       "      <td>3731.000000</td>\n",
       "      <td>0.000000</td>\n",
       "    </tr>\n",
       "    <tr>\n",
       "      <th>75%</th>\n",
       "      <td>4.000000</td>\n",
       "      <td>2007.000000</td>\n",
       "      <td>0.000000</td>\n",
       "      <td>0.000000</td>\n",
       "      <td>91.000000</td>\n",
       "      <td>155.000000</td>\n",
       "      <td>108.375000</td>\n",
       "      <td>0.00000</td>\n",
       "      <td>1.000000</td>\n",
       "      <td>60.000000</td>\n",
       "      <td>1.000000</td>\n",
       "      <td>0.000000</td>\n",
       "      <td>0.000000</td>\n",
       "      <td>0.000000</td>\n",
       "      <td>1.000000</td>\n",
       "      <td>4740.000000</td>\n",
       "      <td>3.000000</td>\n",
       "    </tr>\n",
       "    <tr>\n",
       "      <th>max</th>\n",
       "      <td>5.000000</td>\n",
       "      <td>2019.000000</td>\n",
       "      <td>1.000000</td>\n",
       "      <td>1.000000</td>\n",
       "      <td>202.000000</td>\n",
       "      <td>306.000000</td>\n",
       "      <td>205.000000</td>\n",
       "      <td>1.00000</td>\n",
       "      <td>1.000000</td>\n",
       "      <td>277.000000</td>\n",
       "      <td>1.000000</td>\n",
       "      <td>1.000000</td>\n",
       "      <td>1.000000</td>\n",
       "      <td>1.000000</td>\n",
       "      <td>1.000000</td>\n",
       "      <td>10051.000000</td>\n",
       "      <td>4.000000</td>\n",
       "    </tr>\n",
       "  </tbody>\n",
       "</table>\n",
       "</div>"
      ],
      "text/plain": [
       "           Rating      Founded      hourly  employer_provided  min_salary  \\\n",
       "count  742.000000   742.000000  742.000000         742.000000  742.000000   \n",
       "mean     3.618868  1837.154987    0.032345           0.022911   74.690027   \n",
       "std      0.801210   497.183763    0.177034           0.149721   31.012311   \n",
       "min     -1.000000    -1.000000    0.000000           0.000000   15.000000   \n",
       "25%      3.300000  1939.000000    0.000000           0.000000   52.000000   \n",
       "50%      3.700000  1988.000000    0.000000           0.000000   69.500000   \n",
       "75%      4.000000  2007.000000    0.000000           0.000000   91.000000   \n",
       "max      5.000000  2019.000000    1.000000           1.000000  202.000000   \n",
       "\n",
       "       max_salary  avg_salary  headquarters_abroad  same_location         age  \\\n",
       "count  742.000000  742.000000            742.00000     742.000000  742.000000   \n",
       "mean   128.103774   90.148922              0.08221       0.557951   47.524259   \n",
       "std     45.286329   32.293208              0.27487       0.496965   53.839080   \n",
       "min     16.000000    8.500000              0.00000       0.000000   -1.000000   \n",
       "25%     96.000000   69.000000              0.00000       0.000000   12.000000   \n",
       "50%    124.000000   88.500000              0.00000       1.000000   25.000000   \n",
       "75%    155.000000  108.375000              0.00000       1.000000   60.000000   \n",
       "max    306.000000  205.000000              1.00000       1.000000  277.000000   \n",
       "\n",
       "           python           R       spark     tableau       excel  \\\n",
       "count  742.000000  742.000000  742.000000  742.000000  742.000000   \n",
       "mean     0.528302    0.002695    0.225067    0.199461    0.522911   \n",
       "std      0.499535    0.051882    0.417908    0.399865    0.499812   \n",
       "min      0.000000    0.000000    0.000000    0.000000    0.000000   \n",
       "25%      0.000000    0.000000    0.000000    0.000000    0.000000   \n",
       "50%      1.000000    0.000000    0.000000    0.000000    1.000000   \n",
       "75%      1.000000    0.000000    0.000000    0.000000    1.000000   \n",
       "max      1.000000    1.000000    1.000000    1.000000    1.000000   \n",
       "\n",
       "        desc_length    num_comp  \n",
       "count    742.000000  742.000000  \n",
       "mean    3869.545822    1.053908  \n",
       "std     1521.495868    1.384239  \n",
       "min      407.000000    0.000000  \n",
       "25%     2801.000000    0.000000  \n",
       "50%     3731.000000    0.000000  \n",
       "75%     4740.000000    3.000000  \n",
       "max    10051.000000    4.000000  "
      ]
     },
     "execution_count": 5,
     "metadata": {},
     "output_type": "execute_result"
    }
   ],
   "source": [
    "df.describe()"
   ]
  },
  {
   "cell_type": "markdown",
   "metadata": {},
   "source": [
    "## Explore numeric features"
   ]
  },
  {
   "cell_type": "code",
   "execution_count": 6,
   "metadata": {},
   "outputs": [
    {
     "data": {
      "text/plain": [
       "<AxesSubplot:xlabel='Rating', ylabel='Count'>"
      ]
     },
     "execution_count": 6,
     "metadata": {},
     "output_type": "execute_result"
    },
    {
     "data": {
      "image/png": "[encoded data removed]",
      "text/plain": [
       "<Figure size 432x288 with 1 Axes>"
      ]
     },
     "metadata": {
      "needs_background": "light"
     },
     "output_type": "display_data"
    }
   ],
   "source": [
    "sns.histplot(data=df[df['Rating']>0], x='Rating', kde=True)"
   ]
  },
  {
   "cell_type": "code",
   "execution_count": 7,
   "metadata": {},
   "outputs": [
    {
     "data": {
      "text/plain": [
       "<AxesSubplot:xlabel='avg_salary', ylabel='Count'>"
      ]
     },
     "execution_count": 7,
     "metadata": {},
     "output_type": "execute_result"
    },
    {
     "data": {
      "image/png": "[encoded data removed]",
      "text/plain": [
       "<Figure size 432x288 with 1 Axes>"
      ]
     },
     "metadata": {
      "needs_background": "light"
     },
     "output_type": "display_data"
    }
   ],
   "source": [
    "sns.histplot(data=df, x='avg_salary', kde=True)"
   ]
  },
  {
   "cell_type": "code",
   "execution_count": 8,
   "metadata": {},
   "outputs": [
    {
     "data": {
      "text/plain": [
       "<AxesSubplot:xlabel='age', ylabel='Count'>"
      ]
     },
     "execution_count": 8,
     "metadata": {},
     "output_type": "execute_result"
    },
    {
     "data": {
      "image/png": "[encoded data removed]",
      "text/plain": [
       "<Figure size 432x288 with 1 Axes>"
      ]
     },
     "metadata": {
      "needs_background": "light"
     },
     "output_type": "display_data"
    }
   ],
   "source": [
    "sns.histplot(data=df, x='age')"
   ]
  },
  {
   "cell_type": "code",
   "execution_count": 9,
   "metadata": {},
   "outputs": [
    {
     "data": {
      "text/plain": [
       "<AxesSubplot:xlabel='desc_length', ylabel='Count'>"
      ]
     },
     "execution_count": 9,
     "metadata": {},
     "output_type": "execute_result"
    },
    {
     "data": {
      "image/png": "[encoded data removed]",
      "text/plain": [
       "<Figure size 432x288 with 1 Axes>"
      ]
     },
     "metadata": {
      "needs_background": "light"
     },
     "output_type": "display_data"
    }
   ],
   "source": [
    "sns.histplot(data=df, x='desc_length', kde=True)"
   ]
  },
  {
   "cell_type": "code",
   "execution_count": 10,
   "metadata": {},
   "outputs": [
    {
     "data": {
      "text/plain": [
       "<AxesSubplot:xlabel='num_comp', ylabel='Count'>"
      ]
     },
     "execution_count": 10,
     "metadata": {},
     "output_type": "execute_result"
    },
    {
     "data": {
      "image/png": "[encoded data removed]",
      "text/plain": [
       "<Figure size 432x288 with 1 Axes>"
      ]
     },
     "metadata": {
      "needs_background": "light"
     },
     "output_type": "display_data"
    }
   ],
   "source": [
    "sns.histplot(data=df, x='num_comp')"
   ]
  },
  {
   "cell_type": "code",
   "execution_count": 11,
   "metadata": {},
   "outputs": [
    {
     "data": {
      "text/plain": [
       "<AxesSubplot:>"
      ]
     },
     "execution_count": 11,
     "metadata": {},
     "output_type": "execute_result"
    },
    {
     "data": {
      "image/png": "[encoded data removed]",
      "text/plain": [
       "<Figure size 432x288 with 1 Axes>"
      ]
     },
     "metadata": {
      "needs_background": "light"
     },
     "output_type": "display_data"
    }
   ],
   "source": [
    "df[df['Rating']>0].boxplot(column = ['Rating'])"
   ]
  },
  {
   "cell_type": "code",
   "execution_count": 12,
   "metadata": {},
   "outputs": [
    {
     "data": {
      "text/plain": [
       "<AxesSubplot:>"
      ]
     },
     "execution_count": 12,
     "metadata": {},
     "output_type": "execute_result"
    },
    {
     "data": {
      "image/png": "[encoded data removed]",
      "text/plain": [
       "<Figure size 432x288 with 1 Axes>"
      ]
     },
     "metadata": {
      "needs_background": "light"
     },
     "output_type": "display_data"
    }
   ],
   "source": [
    "df.boxplot(column = ['avg_salary', 'age'])"
   ]
  },
  {
   "cell_type": "code",
   "execution_count": 13,
   "metadata": {},
   "outputs": [
    {
     "data": {
      "text/plain": [
       "<AxesSubplot:>"
      ]
     },
     "execution_count": 13,
     "metadata": {},
     "output_type": "execute_result"
    },
    {
     "data": {
      "image/png": "[encoded data removed]",
      "text/plain": [
       "<Figure size 432x288 with 1 Axes>"
      ]
     },
     "metadata": {
      "needs_background": "light"
     },
     "output_type": "display_data"
    }
   ],
   "source": [
    "df.boxplot(column='desc_length')"
   ]
  },
  {
   "cell_type": "code",
   "execution_count": 14,
   "metadata": {},
   "outputs": [
    {
     "data": {
      "text/plain": [
       "<AxesSubplot:>"
      ]
     },
     "execution_count": 14,
     "metadata": {},
     "output_type": "execute_result"
    },
    {
     "data": {
      "image/png": "[encoded data removed]",
      "text/plain": [
       "<Figure size 432x288 with 2 Axes>"
      ]
     },
     "metadata": {
      "needs_background": "light"
     },
     "output_type": "display_data"
    }
   ],
   "source": [
    "corr_num = df[['avg_salary', 'age', 'num_comp', 'desc_length']].corr()\n",
    "cmap = sns.diverging_palette(220, 10, as_cmap=True)\n",
    "sns.heatmap(corr_num,vmax=.3, center=0, cmap=cmap, \n",
    "            square=True, linewidths=.5, cbar_kws={\"shrink\": .5})"
   ]
  },
  {
   "cell_type": "markdown",
   "metadata": {},
   "source": [
    "## Explore categorical features"
   ]
  },
  {
   "cell_type": "code",
   "execution_count": 15,
   "metadata": {},
   "outputs": [
    {
     "data": {
      "text/plain": [
       "Index(['Job Title', 'Salary Estimate', 'Job Description', 'Rating',\n",
       "       'Company Name', 'Location', 'Headquarters', 'Size', 'Founded',\n",
       "       'Type of ownership', 'Industry', 'Sector', 'Revenue', 'Competitors',\n",
       "       'hourly', 'employer_provided', 'min_salary', 'max_salary', 'avg_salary',\n",
       "       'jobs_state', 'headquarters_state', 'headquarters_abroad',\n",
       "       'same_location', 'age', 'python', 'R', 'spark', 'tableau', 'excel',\n",
       "       'simple_title', 'seniority', 'desc_length', 'num_comp'],\n",
       "      dtype='object')"
      ]
     },
     "execution_count": 15,
     "metadata": {},
     "output_type": "execute_result"
    }
   ],
   "source": [
    "df.columns"
   ]
  },
  {
   "cell_type": "code",
   "execution_count": 17,
   "metadata": {},
   "outputs": [
    {
     "name": "stdout",
     "output_type": "stream",
     "text": [
      "Plot for \"Size\", amount of categories=9\n"
     ]
    },
    {
     "data": {
      "image/png": "[encoded data removed]",
      "text/plain": [
       "<Figure size 432x288 with 1 Axes>"
      ]
     },
     "metadata": {
      "needs_background": "light"
     },
     "output_type": "display_data"
    },
    {
     "name": "stdout",
     "output_type": "stream",
     "text": [
      "Plot for \"Type of ownership\", amount of categories=11\n"
     ]
    },
    {
     "data": {
      "image/png": "[encoded data removed]",
      "text/plain": [
       "<Figure size 432x288 with 1 Axes>"
      ]
     },
     "metadata": {
      "needs_background": "light"
     },
     "output_type": "display_data"
    },
    {
     "name": "stdout",
     "output_type": "stream",
     "text": [
      "Plot for \"Sector\", amount of categories=25\n"
     ]
    },
    {
     "data": {
      "image/png": "[encoded data removed]",
      "text/plain": [
       "<Figure size 432x288 with 1 Axes>"
      ]
     },
     "metadata": {
      "needs_background": "light"
     },
     "output_type": "display_data"
    },
    {
     "name": "stdout",
     "output_type": "stream",
     "text": [
      "Plot for \"Revenue\", amount of categories=14\n"
     ]
    },
    {
     "data": {
      "image/png": "[encoded data removed]",
      "text/plain": [
       "<Figure size 432x288 with 1 Axes>"
      ]
     },
     "metadata": {
      "needs_background": "light"
     },
     "output_type": "display_data"
    },
    {
     "name": "stdout",
     "output_type": "stream",
     "text": [
      "Plot for \"hourly\", amount of categories=2\n"
     ]
    },
    {
     "data": {
      "image/png": "[encoded data removed]",
      "text/plain": [
       "<Figure size 432x288 with 1 Axes>"
      ]
     },
     "metadata": {
      "needs_background": "light"
     },
     "output_type": "display_data"
    },
    {
     "name": "stdout",
     "output_type": "stream",
     "text": [
      "Plot for \"jobs_state\", amount of categories=37\n"
     ]
    },
    {
     "data": {
      "image/png": "[encoded data removed]",
      "text/plain": [
       "<Figure size 432x288 with 1 Axes>"
      ]
     },
     "metadata": {
      "needs_background": "light"
     },
     "output_type": "display_data"
    },
    {
     "name": "stdout",
     "output_type": "stream",
     "text": [
      "Plot for \"same_location\", amount of categories=2\n"
     ]
    },
    {
     "data": {
      "image/png": "[encoded data removed]",
      "text/plain": [
       "<Figure size 432x288 with 1 Axes>"
      ]
     },
     "metadata": {
      "needs_background": "light"
     },
     "output_type": "display_data"
    },
    {
     "name": "stdout",
     "output_type": "stream",
     "text": [
      "Plot for \"headquarters_abroad\", amount of categories=2\n"
     ]
    },
    {
     "data": {
      "image/png": "[encoded data removed]",
      "text/plain": [
       "<Figure size 432x288 with 1 Axes>"
      ]
     },
     "metadata": {
      "needs_background": "light"
     },
     "output_type": "display_data"
    },
    {
     "name": "stdout",
     "output_type": "stream",
     "text": [
      "Plot for \"python\", amount of categories=2\n"
     ]
    },
    {
     "data": {
      "image/png": "[encoded data removed]",
      "text/plain": [
       "<Figure size 432x288 with 1 Axes>"
      ]
     },
     "metadata": {
      "needs_background": "light"
     },
     "output_type": "display_data"
    },
    {
     "name": "stdout",
     "output_type": "stream",
     "text": [
      "Plot for \"R\", amount of categories=2\n"
     ]
    },
    {
     "data": {
      "image/png": "[encoded data removed]",
      "text/plain": [
       "<Figure size 432x288 with 1 Axes>"
      ]
     },
     "metadata": {
      "needs_background": "light"
     },
     "output_type": "display_data"
    },
    {
     "name": "stdout",
     "output_type": "stream",
     "text": [
      "Plot for \"spark\", amount of categories=2\n"
     ]
    },
    {
     "data": {
      "image/png": "[encoded data removed]",
      "text/plain": [
       "<Figure size 432x288 with 1 Axes>"
      ]
     },
     "metadata": {
      "needs_background": "light"
     },
     "output_type": "display_data"
    },
    {
     "name": "stdout",
     "output_type": "stream",
     "text": [
      "Plot for \"tableau\", amount of categories=2\n"
     ]
    },
    {
     "data": {
      "image/png": "[encoded data removed]",
      "text/plain": [
       "<Figure size 432x288 with 1 Axes>"
      ]
     },
     "metadata": {
      "needs_background": "light"
     },
     "output_type": "display_data"
    },
    {
     "name": "stdout",
     "output_type": "stream",
     "text": [
      "Plot for \"excel\", amount of categories=2\n"
     ]
    },
    {
     "data": {
      "image/png": "[encoded data removed]",
      "text/plain": [
       "<Figure size 432x288 with 1 Axes>"
      ]
     },
     "metadata": {
      "needs_background": "light"
     },
     "output_type": "display_data"
    },
    {
     "name": "stdout",
     "output_type": "stream",
     "text": [
      "Plot for \"simple_title\", amount of categories=7\n"
     ]
    },
    {
     "data": {
      "image/png": "[encoded data removed]",
      "text/plain": [
       "<Figure size 432x288 with 1 Axes>"
      ]
     },
     "metadata": {
      "needs_background": "light"
     },
     "output_type": "display_data"
    },
    {
     "name": "stdout",
     "output_type": "stream",
     "text": [
      "Plot for \"seniority\", amount of categories=4\n"
     ]
    },
    {
     "data": {
      "image/png": "[encoded data removed]",
      "text/plain": [
       "<Figure size 432x288 with 1 Axes>"
      ]
     },
     "metadata": {
      "needs_background": "light"
     },
     "output_type": "display_data"
    }
   ],
   "source": [
    "for col in small_categ:\n",
    "    print('Plot for \"{}\", amount of categories={}'.format(col, len(df[col].value_counts())))\n",
    "    sns.countplot(x=col, data=df)\n",
    "    plt.xticks(rotation=90)\n",
    "    plt.show()"
   ]
  },
  {
   "cell_type": "code",
   "execution_count": 18,
   "metadata": {},
   "outputs": [
    {
     "name": "stdout",
     "output_type": "stream",
     "text": [
      "Plot for \"Company Name\"\n"
     ]
    },
    {
     "data": {
      "image/png": "[encoded data removed]",
      "text/plain": [
       "<Figure size 432x288 with 1 Axes>"
      ]
     },
     "metadata": {
      "needs_background": "light"
     },
     "output_type": "display_data"
    },
    {
     "name": "stdout",
     "output_type": "stream",
     "text": [
      "Plot for \"Industry\"\n"
     ]
    },
    {
     "data": {
      "image/png": "[encoded data removed]",
      "text/plain": [
       "<Figure size 432x288 with 1 Axes>"
      ]
     },
     "metadata": {
      "needs_background": "light"
     },
     "output_type": "display_data"
    },
    {
     "name": "stdout",
     "output_type": "stream",
     "text": [
      "Plot for \"Location\"\n"
     ]
    },
    {
     "data": {
      "image/png": "[encoded data removed]",
      "text/plain": [
       "<Figure size 432x288 with 1 Axes>"
      ]
     },
     "metadata": {
      "needs_background": "light"
     },
     "output_type": "display_data"
    },
    {
     "name": "stdout",
     "output_type": "stream",
     "text": [
      "Plot for \"Headquarters\"\n"
     ]
    },
    {
     "data": {
      "image/png": "[encoded data removed]",
      "text/plain": [
       "<Figure size 432x288 with 1 Axes>"
      ]
     },
     "metadata": {
      "needs_background": "light"
     },
     "output_type": "display_data"
    }
   ],
   "source": [
    "for col in big_categ:\n",
    "    data = df[col].value_counts()[:20]\n",
    "    print('Plot for \"{}\"'.format(col))\n",
    "    sns.barplot(x=data.index, y=data)\n",
    "    plt.xticks(rotation=90)\n",
    "    plt.show()"
   ]
  },
  {
   "cell_type": "markdown",
   "metadata": {},
   "source": [
    "## Explore average salary with pivot tables"
   ]
  },
  {
   "cell_type": "code",
   "execution_count": 19,
   "metadata": {},
   "outputs": [
    {
     "data": {
      "text/plain": [
       "Index(['Job Title', 'Salary Estimate', 'Job Description', 'Rating',\n",
       "       'Company Name', 'Location', 'Headquarters', 'Size', 'Founded',\n",
       "       'Type of ownership', 'Industry', 'Sector', 'Revenue', 'Competitors',\n",
       "       'hourly', 'employer_provided', 'min_salary', 'max_salary', 'avg_salary',\n",
       "       'jobs_state', 'headquarters_state', 'headquarters_abroad',\n",
       "       'same_location', 'age', 'python', 'R', 'spark', 'tableau', 'excel',\n",
       "       'simple_title', 'seniority', 'desc_length', 'num_comp'],\n",
       "      dtype='object')"
      ]
     },
     "execution_count": 19,
     "metadata": {},
     "output_type": "execute_result"
    }
   ],
   "source": [
    "df.columns"
   ]
  },
  {
   "cell_type": "code",
   "execution_count": 41,
   "metadata": {},
   "outputs": [],
   "source": [
    "for_pivot = ['Rating', 'Size', 'Type of ownership', 'Industry', 'Sector', 'Revenue', 'hourly', 'employer_provided', \n",
    "             'jobs_state', 'headquarters_abroad', 'same_location', 'python', 'R', 'spark', 'tableau', 'excel',\n",
    "             'simple_title', 'seniority', 'num_comp']"
   ]
  },
  {
   "cell_type": "code",
   "execution_count": 42,
   "metadata": {},
   "outputs": [
    {
     "name": "stdout",
     "output_type": "stream",
     "text": [
      "Rating\n",
      "        avg_salary\n",
      "Rating            \n",
      " 4.5    106.214286\n",
      " 2.6    104.791667\n",
      " 2.5    101.250000\n",
      " 3.9    100.190476\n",
      " 4.4     98.939394\n",
      " 3.2     95.200000\n",
      " 4.0     94.989362\n",
      " 3.5     94.418367\n",
      "-1.0     94.272727\n",
      " 4.1     94.263158\n",
      " 2.1     94.000000\n",
      " 4.3     93.515625\n",
      " 4.7     93.483871\n",
      " 3.7     93.057377\n",
      " 3.3     90.448718\n",
      " 4.2     89.192308\n",
      " 2.2     86.750000\n",
      " 3.8     86.729508\n",
      " 4.6     86.350000\n",
      " 5.0     84.900000\n",
      " 3.4     83.852273\n",
      " 3.1     83.760000\n",
      " 2.7     82.607143\n",
      " 1.9     81.500000\n",
      " 2.9     81.444444\n",
      " 3.6     78.163043\n",
      " 2.8     76.785714\n",
      " 3.0     75.794118\n",
      " 2.3     73.750000\n",
      " 4.8     65.388889\n",
      " 2.4     59.357143\n",
      "============================================================\n",
      "Size\n",
      "                         avg_salary\n",
      "Size                               \n",
      "10000+ employees          99.661538\n",
      "51 to 200 employees       96.462766\n",
      "201 to 500 employees      92.290598\n",
      "1 to 50 employees         90.661290\n",
      "5001 to 10000 employees   88.578947\n",
      "Unknown                   86.055556\n",
      "-1                        85.000000\n",
      "1001 to 5000 employees    84.483333\n",
      "501 to 1000 employees     82.048507\n",
      "============================================================\n",
      "Type of ownership\n",
      "                                avg_salary\n",
      "Type of ownership                         \n",
      "College / University            103.307692\n",
      "Subsidiary or Business Segment  100.308824\n",
      "Company - Public                 99.222798\n",
      "Company - Private                90.651220\n",
      "-1                               85.000000\n",
      "Government                       74.000000\n",
      "Other Organization               71.500000\n",
      "School / School District         70.750000\n",
      "Nonprofit Organization           62.354545\n",
      "Hospital                         53.600000\n",
      "Unknown                          35.500000\n",
      "============================================================\n",
      "Industry\n",
      "                                          avg_salary\n",
      "Industry                                            \n",
      "Motion Picture Production & Distribution  139.000000\n",
      "Other Retail Stores                       138.000000\n",
      "Financial Analytics & Research            123.187500\n",
      "Brokerage Services                        121.500000\n",
      "Health, Beauty, & Fitness                 117.000000\n",
      "Auctions & Galleries                      113.500000\n",
      "Telecommunications Services               110.750000\n",
      "TV Broadcast & Cable Networks             105.000000\n",
      "Biotech & Pharmaceuticals                 104.098214\n",
      "Internet                                  103.258621\n",
      "Computer Hardware & Software              103.067797\n",
      "Transportation Management                 102.500000\n",
      "Investment Banking & Asset Management     101.800000\n",
      "Video Games                               100.833333\n",
      "Enterprise Software & Network Solutions    99.738095\n",
      "Accounting                                 99.500000\n",
      "Consulting                                 97.068966\n",
      "Staffing & Outsourcing                     97.050000\n",
      "Colleges & Universities                    96.906250\n",
      "K-12 Education                             96.625000\n",
      "Insurance Agencies & Brokerages            94.750000\n",
      "Insurance Carriers                         94.563492\n",
      "Advertising & Marketing                    93.640000\n",
      "Gas Stations                               92.500000\n",
      "Consumer Products Manufacturing            92.000000\n",
      "Metals Brokers                             91.000000\n",
      "Wholesale                                  89.833333\n",
      "Transportation Equipment Manufacturing     89.000000\n",
      "Aerospace & Defense                        88.740000\n",
      "IT Services                                88.260000\n",
      "Real Estate                                86.312500\n",
      "Mining                                     85.000000\n",
      "Logistics & Supply Chain                   84.750000\n",
      "Department, Clothing, & Shoe Stores        84.333333\n",
      "Lending                                    83.312500\n",
      "-1                                         83.200000\n",
      "Stock Exchanges                            82.500000\n",
      "Consumer Product Rental                    80.333333\n",
      "Beauty & Personal Accessories Stores       79.500000\n",
      "Security Services                          79.214286\n",
      "Trucking                                   78.500000\n",
      "Sporting Goods Stores                      78.500000\n",
      "Industrial Manufacturing                   75.250000\n",
      "Religious Organizations                    75.166667\n",
      "Research & Development                     74.368421\n",
      "Federal Agencies                           72.818182\n",
      "Energy                                     71.250000\n",
      "Farm Support Services                      71.000000\n",
      "Education Training Services                70.500000\n",
      "Travel Agencies                            65.875000\n",
      "Financial Transaction Processing           65.250000\n",
      "Health Care Products Manufacturing         65.000000\n",
      "Banks & Credit Unions                      63.875000\n",
      "Health Care Services & Hospitals           61.836735\n",
      "Social Assistance                          47.333333\n",
      "Food & Beverage Manufacturing              47.250000\n",
      "Architectural & Engineering Services       47.000000\n",
      "Gambling                                   44.500000\n",
      "Telecommunications Manufacturing           41.500000\n",
      "Construction                               15.500000\n",
      "============================================================\n",
      "Sector\n",
      "                                    avg_salary\n",
      "Sector                                        \n",
      "Media                               108.583333\n",
      "Biotech & Pharmaceuticals           104.098214\n",
      "Accounting & Legal                   99.500000\n",
      "Information Technology               98.208333\n",
      "Insurance                            94.579710\n",
      "Education                            93.413043\n",
      "Retail                               90.933333\n",
      "Transportation & Logistics           90.625000\n",
      "Consumer Services                    89.500000\n",
      "Mining & Metals                      89.000000\n",
      "Aerospace & Defense                  88.740000\n",
      "Business Services                    88.159794\n",
      "Telecommunications                   87.666667\n",
      "Finance                              87.595238\n",
      "Real Estate                          86.312500\n",
      "-1                                   83.200000\n",
      "Manufacturing                        78.617647\n",
      "Government                           72.818182\n",
      "Oil, Gas, Energy & Utilities         71.250000\n",
      "Agriculture & Forestry               71.000000\n",
      "Non-Profit                           65.888889\n",
      "Travel & Tourism                     65.875000\n",
      "Health Care                          61.836735\n",
      "Arts, Entertainment & Recreation     44.500000\n",
      "Construction, Repair & Maintenance   15.500000\n",
      "============================================================\n",
      "Revenue\n",
      "                                  avg_salary\n",
      "Revenue                                     \n",
      "$5 to $10 million (USD)           110.472222\n",
      "$1 to $5 million (USD)            106.437500\n",
      "$10+ billion (USD)                103.181452\n",
      "Less than $1 million (USD)         96.125000\n",
      "$1 to $2 billion (USD)             93.791667\n",
      "Unknown / Non-Applicable           92.381773\n",
      "$10 to $25 million (USD)           90.796875\n",
      "$50 to $100 million (USD)          87.130435\n",
      "-1                                 85.000000\n",
      "$5 to $10 billion (USD)            84.710526\n",
      "$2 to $5 billion (USD)             83.807692\n",
      "$500 million to $1 billion (USD)   81.140351\n",
      "$25 to $50 million (USD)           79.762500\n",
      "$100 to $500 million (USD)         74.708791\n",
      "============================================================\n",
      "hourly\n",
      "        avg_salary\n",
      "hourly            \n",
      "0          92.5000\n",
      "1          19.8125\n",
      "============================================================\n",
      "employer_provided\n",
      "                   avg_salary\n",
      "employer_provided            \n",
      "0                   90.443448\n",
      "1                   77.588235\n",
      "============================================================\n",
      "jobs_state\n",
      "            avg_salary\n",
      "jobs_state            \n",
      "CA          108.384868\n",
      "IL          100.800000\n",
      "MA           96.131068\n",
      "KY           94.500000\n",
      "NJ           93.882353\n",
      "NC           93.333333\n",
      "MD           92.242857\n",
      "NY           89.118056\n",
      "RI           89.000000\n",
      "DC           87.409091\n",
      "VA           86.207317\n",
      "PA           86.121212\n",
      "UT           85.250000\n",
      "MI           85.000000\n",
      "IN           84.600000\n",
      "KS           82.500000\n",
      "OR           81.875000\n",
      "TN           81.807692\n",
      "MN           81.000000\n",
      "OH           80.857143\n",
      "TX           80.321429\n",
      "MO           79.944444\n",
      "WA           79.809524\n",
      "GA           77.833333\n",
      "IA           73.200000\n",
      "AZ           72.666667\n",
      "CO           67.909091\n",
      "NM           66.166667\n",
      "WI           65.000000\n",
      "FL           64.687500\n",
      "SC           62.500000\n",
      "CT           55.800000\n",
      "AL           54.562500\n",
      "ID           53.250000\n",
      "LA           50.125000\n",
      "NE           39.625000\n",
      "DE           23.500000\n",
      "============================================================\n",
      "headquarters_abroad\n",
      "                     avg_salary\n",
      "headquarters_abroad            \n",
      "1                    101.532787\n",
      "0                     89.129222\n",
      "============================================================\n",
      "same_location\n",
      "               avg_salary\n",
      "same_location            \n",
      "0               90.750000\n",
      "1               89.672705\n",
      "============================================================\n",
      "python\n",
      "        avg_salary\n",
      "python            \n",
      "1        98.881378\n",
      "0        80.368571\n",
      "============================================================\n",
      "R\n",
      "   avg_salary\n",
      "R            \n",
      "0   90.210811\n",
      "1   67.250000\n",
      "============================================================\n",
      "spark\n",
      "       avg_salary\n",
      "spark            \n",
      "1      100.425150\n",
      "0       87.164348\n",
      "============================================================\n",
      "tableau\n",
      "         avg_salary\n",
      "tableau            \n",
      "0         91.678451\n",
      "1         84.010135\n",
      "============================================================\n",
      "excel\n",
      "       avg_salary\n",
      "excel            \n",
      "0       91.699153\n",
      "1       88.734536\n",
      "============================================================\n",
      "simple_title\n",
      "                avg_salary\n",
      "simple_title              \n",
      "director        143.714286\n",
      "mle             117.318182\n",
      "data scientist  100.306452\n",
      "data engineer    96.579832\n",
      "manager          80.909091\n",
      "na               80.269022\n",
      "analyst          61.465686\n",
      "============================================================\n",
      "seniority\n",
      "           avg_salary\n",
      "seniority            \n",
      "senior     106.797727\n",
      "na          83.327853\n",
      "jr          64.500000\n",
      "intern      60.500000\n",
      "============================================================\n",
      "num_comp\n",
      "          avg_salary\n",
      "num_comp            \n",
      "2          95.268293\n",
      "3          94.456140\n",
      "1          90.666667\n",
      "0          87.628261\n",
      "4          51.500000\n",
      "============================================================\n"
     ]
    }
   ],
   "source": [
    "for col in for_pivot:\n",
    "    print(col)\n",
    "    print(pd.pivot_table(df, index=col, values = 'avg_salary').sort_values('avg_salary', ascending = False))\n",
    "    print('='*60)"
   ]
  },
  {
   "cell_type": "code",
   "execution_count": 23,
   "metadata": {},
   "outputs": [
    {
     "data": {
      "text/html": [
       "<div>\n",
       "<style scoped>\n",
       "    .dataframe tbody tr th:only-of-type {\n",
       "        vertical-align: middle;\n",
       "    }\n",
       "\n",
       "    .dataframe tbody tr th {\n",
       "        vertical-align: top;\n",
       "    }\n",
       "\n",
       "    .dataframe thead th {\n",
       "        text-align: right;\n",
       "    }\n",
       "</style>\n",
       "<table border=\"1\" class=\"dataframe\">\n",
       "  <thead>\n",
       "    <tr style=\"text-align: right;\">\n",
       "      <th></th>\n",
       "      <th></th>\n",
       "      <th>avg_salary</th>\n",
       "    </tr>\n",
       "    <tr>\n",
       "      <th>simple_title</th>\n",
       "      <th>seniority</th>\n",
       "      <th></th>\n",
       "    </tr>\n",
       "  </thead>\n",
       "  <tbody>\n",
       "    <tr>\n",
       "      <th rowspan=\"3\" valign=\"top\">analyst</th>\n",
       "      <th>jr</th>\n",
       "      <td>51.000000</td>\n",
       "    </tr>\n",
       "    <tr>\n",
       "      <th>na</th>\n",
       "      <td>57.479452</td>\n",
       "    </tr>\n",
       "    <tr>\n",
       "      <th>senior</th>\n",
       "      <td>73.018519</td>\n",
       "    </tr>\n",
       "    <tr>\n",
       "      <th rowspan=\"2\" valign=\"top\">data engineer</th>\n",
       "      <th>na</th>\n",
       "      <td>90.579268</td>\n",
       "    </tr>\n",
       "    <tr>\n",
       "      <th>senior</th>\n",
       "      <td>109.878378</td>\n",
       "    </tr>\n",
       "    <tr>\n",
       "      <th rowspan=\"3\" valign=\"top\">data scientist</th>\n",
       "      <th>jr</th>\n",
       "      <td>91.500000</td>\n",
       "    </tr>\n",
       "    <tr>\n",
       "      <th>na</th>\n",
       "      <td>92.602151</td>\n",
       "    </tr>\n",
       "    <tr>\n",
       "      <th>senior</th>\n",
       "      <td>115.978261</td>\n",
       "    </tr>\n",
       "    <tr>\n",
       "      <th>director</th>\n",
       "      <th>na</th>\n",
       "      <td>143.714286</td>\n",
       "    </tr>\n",
       "    <tr>\n",
       "      <th>manager</th>\n",
       "      <th>na</th>\n",
       "      <td>80.909091</td>\n",
       "    </tr>\n",
       "    <tr>\n",
       "      <th rowspan=\"2\" valign=\"top\">mle</th>\n",
       "      <th>na</th>\n",
       "      <td>109.466667</td>\n",
       "    </tr>\n",
       "    <tr>\n",
       "      <th>senior</th>\n",
       "      <td>134.142857</td>\n",
       "    </tr>\n",
       "    <tr>\n",
       "      <th rowspan=\"3\" valign=\"top\">na</th>\n",
       "      <th>intern</th>\n",
       "      <td>60.500000</td>\n",
       "    </tr>\n",
       "    <tr>\n",
       "      <th>na</th>\n",
       "      <td>70.392000</td>\n",
       "    </tr>\n",
       "    <tr>\n",
       "      <th>senior</th>\n",
       "      <td>102.622807</td>\n",
       "    </tr>\n",
       "  </tbody>\n",
       "</table>\n",
       "</div>"
      ],
      "text/plain": [
       "                          avg_salary\n",
       "simple_title   seniority            \n",
       "analyst        jr          51.000000\n",
       "               na          57.479452\n",
       "               senior      73.018519\n",
       "data engineer  na          90.579268\n",
       "               senior     109.878378\n",
       "data scientist jr          91.500000\n",
       "               na          92.602151\n",
       "               senior     115.978261\n",
       "director       na         143.714286\n",
       "manager        na          80.909091\n",
       "mle            na         109.466667\n",
       "               senior     134.142857\n",
       "na             intern      60.500000\n",
       "               na          70.392000\n",
       "               senior     102.622807"
      ]
     },
     "execution_count": 23,
     "metadata": {},
     "output_type": "execute_result"
    }
   ],
   "source": [
    "pd.pivot_table(df, index=['simple_title', 'seniority'], values='avg_salary')"
   ]
  },
  {
   "cell_type": "code",
   "execution_count": 33,
   "metadata": {},
   "outputs": [
    {
     "data": {
      "text/html": [
       "<div>\n",
       "<style scoped>\n",
       "    .dataframe tbody tr th:only-of-type {\n",
       "        vertical-align: middle;\n",
       "    }\n",
       "\n",
       "    .dataframe tbody tr th {\n",
       "        vertical-align: top;\n",
       "    }\n",
       "\n",
       "    .dataframe thead th {\n",
       "        text-align: right;\n",
       "    }\n",
       "</style>\n",
       "<table border=\"1\" class=\"dataframe\">\n",
       "  <thead>\n",
       "    <tr style=\"text-align: right;\">\n",
       "      <th></th>\n",
       "      <th></th>\n",
       "      <th>avg_salary</th>\n",
       "    </tr>\n",
       "    <tr>\n",
       "      <th>jobs_state</th>\n",
       "      <th>simple_title</th>\n",
       "      <th></th>\n",
       "    </tr>\n",
       "  </thead>\n",
       "  <tbody>\n",
       "    <tr>\n",
       "      <th rowspan=\"3\" valign=\"top\">AL</th>\n",
       "      <th>na</th>\n",
       "      <td>42.500000</td>\n",
       "    </tr>\n",
       "    <tr>\n",
       "      <th>analyst</th>\n",
       "      <td>57.500000</td>\n",
       "    </tr>\n",
       "    <tr>\n",
       "      <th>data engineer</th>\n",
       "      <td>64.000000</td>\n",
       "    </tr>\n",
       "    <tr>\n",
       "      <th rowspan=\"4\" valign=\"top\">AZ</th>\n",
       "      <th>analyst</th>\n",
       "      <td>51.500000</td>\n",
       "    </tr>\n",
       "    <tr>\n",
       "      <th>data engineer</th>\n",
       "      <td>58.200000</td>\n",
       "    </tr>\n",
       "    <tr>\n",
       "      <th>data scientist</th>\n",
       "      <td>62.500000</td>\n",
       "    </tr>\n",
       "    <tr>\n",
       "      <th>na</th>\n",
       "      <td>124.500000</td>\n",
       "    </tr>\n",
       "    <tr>\n",
       "      <th rowspan=\"6\" valign=\"top\">CA</th>\n",
       "      <th>manager</th>\n",
       "      <td>75.555556</td>\n",
       "    </tr>\n",
       "    <tr>\n",
       "      <th>analyst</th>\n",
       "      <td>79.750000</td>\n",
       "    </tr>\n",
       "    <tr>\n",
       "      <th>na</th>\n",
       "      <td>96.037037</td>\n",
       "    </tr>\n",
       "    <tr>\n",
       "      <th>data engineer</th>\n",
       "      <td>113.340000</td>\n",
       "    </tr>\n",
       "    <tr>\n",
       "      <th>data scientist</th>\n",
       "      <td>120.066176</td>\n",
       "    </tr>\n",
       "    <tr>\n",
       "      <th>mle</th>\n",
       "      <td>153.600000</td>\n",
       "    </tr>\n",
       "    <tr>\n",
       "      <th rowspan=\"5\" valign=\"top\">CO</th>\n",
       "      <th>na</th>\n",
       "      <td>27.000000</td>\n",
       "    </tr>\n",
       "    <tr>\n",
       "      <th>analyst</th>\n",
       "      <td>29.000000</td>\n",
       "    </tr>\n",
       "    <tr>\n",
       "      <th>data engineer</th>\n",
       "      <td>87.000000</td>\n",
       "    </tr>\n",
       "    <tr>\n",
       "      <th>mle</th>\n",
       "      <td>93.000000</td>\n",
       "    </tr>\n",
       "    <tr>\n",
       "      <th>data scientist</th>\n",
       "      <td>94.333333</td>\n",
       "    </tr>\n",
       "    <tr>\n",
       "      <th rowspan=\"2\" valign=\"top\">CT</th>\n",
       "      <th>na</th>\n",
       "      <td>44.000000</td>\n",
       "    </tr>\n",
       "    <tr>\n",
       "      <th>data scientist</th>\n",
       "      <td>73.500000</td>\n",
       "    </tr>\n",
       "    <tr>\n",
       "      <th rowspan=\"3\" valign=\"top\">DC</th>\n",
       "      <th>analyst</th>\n",
       "      <td>58.000000</td>\n",
       "    </tr>\n",
       "    <tr>\n",
       "      <th>data engineer</th>\n",
       "      <td>81.875000</td>\n",
       "    </tr>\n",
       "    <tr>\n",
       "      <th>data scientist</th>\n",
       "      <td>103.600000</td>\n",
       "    </tr>\n",
       "    <tr>\n",
       "      <th>DE</th>\n",
       "      <th>na</th>\n",
       "      <td>23.500000</td>\n",
       "    </tr>\n",
       "    <tr>\n",
       "      <th rowspan=\"3\" valign=\"top\">FL</th>\n",
       "      <th>analyst</th>\n",
       "      <td>44.000000</td>\n",
       "    </tr>\n",
       "    <tr>\n",
       "      <th>data engineer</th>\n",
       "      <td>75.666667</td>\n",
       "    </tr>\n",
       "    <tr>\n",
       "      <th>data scientist</th>\n",
       "      <td>77.714286</td>\n",
       "    </tr>\n",
       "    <tr>\n",
       "      <th rowspan=\"2\" valign=\"top\">GA</th>\n",
       "      <th>data scientist</th>\n",
       "      <td>70.666667</td>\n",
       "    </tr>\n",
       "    <tr>\n",
       "      <th>na</th>\n",
       "      <td>85.000000</td>\n",
       "    </tr>\n",
       "    <tr>\n",
       "      <th rowspan=\"2\" valign=\"top\">IA</th>\n",
       "      <th>analyst</th>\n",
       "      <td>39.500000</td>\n",
       "    </tr>\n",
       "    <tr>\n",
       "      <th>data engineer</th>\n",
       "      <td>95.666667</td>\n",
       "    </tr>\n",
       "    <tr>\n",
       "      <th>ID</th>\n",
       "      <th>analyst</th>\n",
       "      <td>53.250000</td>\n",
       "    </tr>\n",
       "    <tr>\n",
       "      <th rowspan=\"6\" valign=\"top\">IL</th>\n",
       "      <th>na</th>\n",
       "      <td>49.333333</td>\n",
       "    </tr>\n",
       "    <tr>\n",
       "      <th>analyst</th>\n",
       "      <td>63.500000</td>\n",
       "    </tr>\n",
       "    <tr>\n",
       "      <th>data engineer</th>\n",
       "      <td>86.312500</td>\n",
       "    </tr>\n",
       "    <tr>\n",
       "      <th>data scientist</th>\n",
       "      <td>101.966667</td>\n",
       "    </tr>\n",
       "    <tr>\n",
       "      <th>mle</th>\n",
       "      <td>116.000000</td>\n",
       "    </tr>\n",
       "    <tr>\n",
       "      <th>director</th>\n",
       "      <td>182.250000</td>\n",
       "    </tr>\n",
       "    <tr>\n",
       "      <th rowspan=\"3\" valign=\"top\">IN</th>\n",
       "      <th>na</th>\n",
       "      <td>66.375000</td>\n",
       "    </tr>\n",
       "    <tr>\n",
       "      <th>data scientist</th>\n",
       "      <td>74.500000</td>\n",
       "    </tr>\n",
       "    <tr>\n",
       "      <th>data engineer</th>\n",
       "      <td>107.875000</td>\n",
       "    </tr>\n",
       "    <tr>\n",
       "      <th>KS</th>\n",
       "      <th>mle</th>\n",
       "      <td>82.500000</td>\n",
       "    </tr>\n",
       "    <tr>\n",
       "      <th rowspan=\"2\" valign=\"top\">KY</th>\n",
       "      <th>data scientist</th>\n",
       "      <td>73.500000</td>\n",
       "    </tr>\n",
       "    <tr>\n",
       "      <th>na</th>\n",
       "      <td>105.000000</td>\n",
       "    </tr>\n",
       "    <tr>\n",
       "      <th rowspan=\"3\" valign=\"top\">LA</th>\n",
       "      <th>na</th>\n",
       "      <td>17.500000</td>\n",
       "    </tr>\n",
       "    <tr>\n",
       "      <th>analyst</th>\n",
       "      <td>45.000000</td>\n",
       "    </tr>\n",
       "    <tr>\n",
       "      <th>data engineer</th>\n",
       "      <td>69.000000</td>\n",
       "    </tr>\n",
       "    <tr>\n",
       "      <th rowspan=\"6\" valign=\"top\">MA</th>\n",
       "      <th>analyst</th>\n",
       "      <td>53.750000</td>\n",
       "    </tr>\n",
       "    <tr>\n",
       "      <th>manager</th>\n",
       "      <td>80.800000</td>\n",
       "    </tr>\n",
       "    <tr>\n",
       "      <th>na</th>\n",
       "      <td>96.945652</td>\n",
       "    </tr>\n",
       "    <tr>\n",
       "      <th>data scientist</th>\n",
       "      <td>98.900000</td>\n",
       "    </tr>\n",
       "    <tr>\n",
       "      <th>data engineer</th>\n",
       "      <td>100.958333</td>\n",
       "    </tr>\n",
       "    <tr>\n",
       "      <th>director</th>\n",
       "      <td>107.416667</td>\n",
       "    </tr>\n",
       "    <tr>\n",
       "      <th rowspan=\"4\" valign=\"top\">MD</th>\n",
       "      <th>analyst</th>\n",
       "      <td>74.333333</td>\n",
       "    </tr>\n",
       "    <tr>\n",
       "      <th>na</th>\n",
       "      <td>91.531250</td>\n",
       "    </tr>\n",
       "    <tr>\n",
       "      <th>data scientist</th>\n",
       "      <td>94.538462</td>\n",
       "    </tr>\n",
       "    <tr>\n",
       "      <th>data engineer</th>\n",
       "      <td>104.000000</td>\n",
       "    </tr>\n",
       "    <tr>\n",
       "      <th rowspan=\"2\" valign=\"top\">MI</th>\n",
       "      <th>data scientist</th>\n",
       "      <td>84.250000</td>\n",
       "    </tr>\n",
       "    <tr>\n",
       "      <th>manager</th>\n",
       "      <td>86.500000</td>\n",
       "    </tr>\n",
       "    <tr>\n",
       "      <th rowspan=\"2\" valign=\"top\">MN</th>\n",
       "      <th>analyst</th>\n",
       "      <td>69.500000</td>\n",
       "    </tr>\n",
       "    <tr>\n",
       "      <th>data engineer</th>\n",
       "      <td>92.500000</td>\n",
       "    </tr>\n",
       "    <tr>\n",
       "      <th rowspan=\"4\" valign=\"top\">MO</th>\n",
       "      <th>manager</th>\n",
       "      <td>42.000000</td>\n",
       "    </tr>\n",
       "    <tr>\n",
       "      <th>analyst</th>\n",
       "      <td>56.000000</td>\n",
       "    </tr>\n",
       "    <tr>\n",
       "      <th>na</th>\n",
       "      <td>79.666667</td>\n",
       "    </tr>\n",
       "    <tr>\n",
       "      <th>data scientist</th>\n",
       "      <td>108.833333</td>\n",
       "    </tr>\n",
       "    <tr>\n",
       "      <th rowspan=\"3\" valign=\"top\">NC</th>\n",
       "      <th>na</th>\n",
       "      <td>88.708333</td>\n",
       "    </tr>\n",
       "    <tr>\n",
       "      <th>data engineer</th>\n",
       "      <td>99.250000</td>\n",
       "    </tr>\n",
       "    <tr>\n",
       "      <th>data scientist</th>\n",
       "      <td>100.000000</td>\n",
       "    </tr>\n",
       "    <tr>\n",
       "      <th>NE</th>\n",
       "      <th>na</th>\n",
       "      <td>39.625000</td>\n",
       "    </tr>\n",
       "    <tr>\n",
       "      <th rowspan=\"6\" valign=\"top\">NJ</th>\n",
       "      <th>analyst</th>\n",
       "      <td>78.916667</td>\n",
       "    </tr>\n",
       "    <tr>\n",
       "      <th>na</th>\n",
       "      <td>87.000000</td>\n",
       "    </tr>\n",
       "    <tr>\n",
       "      <th>data scientist</th>\n",
       "      <td>91.125000</td>\n",
       "    </tr>\n",
       "    <tr>\n",
       "      <th>manager</th>\n",
       "      <td>91.500000</td>\n",
       "    </tr>\n",
       "    <tr>\n",
       "      <th>data engineer</th>\n",
       "      <td>107.000000</td>\n",
       "    </tr>\n",
       "    <tr>\n",
       "      <th>director</th>\n",
       "      <td>137.000000</td>\n",
       "    </tr>\n",
       "    <tr>\n",
       "      <th>NM</th>\n",
       "      <th>data scientist</th>\n",
       "      <td>66.166667</td>\n",
       "    </tr>\n",
       "    <tr>\n",
       "      <th rowspan=\"5\" valign=\"top\">NY</th>\n",
       "      <th>analyst</th>\n",
       "      <td>62.000000</td>\n",
       "    </tr>\n",
       "    <tr>\n",
       "      <th>na</th>\n",
       "      <td>82.166667</td>\n",
       "    </tr>\n",
       "    <tr>\n",
       "      <th>data engineer</th>\n",
       "      <td>84.250000</td>\n",
       "    </tr>\n",
       "    <tr>\n",
       "      <th>data scientist</th>\n",
       "      <td>99.962500</td>\n",
       "    </tr>\n",
       "    <tr>\n",
       "      <th>mle</th>\n",
       "      <td>113.500000</td>\n",
       "    </tr>\n",
       "    <tr>\n",
       "      <th rowspan=\"3\" valign=\"top\">OH</th>\n",
       "      <th>analyst</th>\n",
       "      <td>51.875000</td>\n",
       "    </tr>\n",
       "    <tr>\n",
       "      <th>data scientist</th>\n",
       "      <td>92.071429</td>\n",
       "    </tr>\n",
       "    <tr>\n",
       "      <th>na</th>\n",
       "      <td>93.333333</td>\n",
       "    </tr>\n",
       "    <tr>\n",
       "      <th rowspan=\"2\" valign=\"top\">OR</th>\n",
       "      <th>data engineer</th>\n",
       "      <td>72.500000</td>\n",
       "    </tr>\n",
       "    <tr>\n",
       "      <th>data scientist</th>\n",
       "      <td>85.000000</td>\n",
       "    </tr>\n",
       "    <tr>\n",
       "      <th rowspan=\"6\" valign=\"top\">PA</th>\n",
       "      <th>analyst</th>\n",
       "      <td>58.187500</td>\n",
       "    </tr>\n",
       "    <tr>\n",
       "      <th>na</th>\n",
       "      <td>66.812500</td>\n",
       "    </tr>\n",
       "    <tr>\n",
       "      <th>data engineer</th>\n",
       "      <td>88.500000</td>\n",
       "    </tr>\n",
       "    <tr>\n",
       "      <th>manager</th>\n",
       "      <td>99.333333</td>\n",
       "    </tr>\n",
       "    <tr>\n",
       "      <th>data scientist</th>\n",
       "      <td>100.666667</td>\n",
       "    </tr>\n",
       "    <tr>\n",
       "      <th>mle</th>\n",
       "      <td>121.642857</td>\n",
       "    </tr>\n",
       "    <tr>\n",
       "      <th>RI</th>\n",
       "      <th>analyst</th>\n",
       "      <td>89.000000</td>\n",
       "    </tr>\n",
       "    <tr>\n",
       "      <th>SC</th>\n",
       "      <th>na</th>\n",
       "      <td>62.500000</td>\n",
       "    </tr>\n",
       "    <tr>\n",
       "      <th rowspan=\"3\" valign=\"top\">TN</th>\n",
       "      <th>analyst</th>\n",
       "      <td>12.000000</td>\n",
       "    </tr>\n",
       "    <tr>\n",
       "      <th>data scientist</th>\n",
       "      <td>87.000000</td>\n",
       "    </tr>\n",
       "    <tr>\n",
       "      <th>data engineer</th>\n",
       "      <td>95.250000</td>\n",
       "    </tr>\n",
       "    <tr>\n",
       "      <th rowspan=\"3\" valign=\"top\">TX</th>\n",
       "      <th>na</th>\n",
       "      <td>36.714286</td>\n",
       "    </tr>\n",
       "    <tr>\n",
       "      <th>data scientist</th>\n",
       "      <td>87.115385</td>\n",
       "    </tr>\n",
       "    <tr>\n",
       "      <th>data engineer</th>\n",
       "      <td>107.437500</td>\n",
       "    </tr>\n",
       "    <tr>\n",
       "      <th rowspan=\"3\" valign=\"top\">UT</th>\n",
       "      <th>analyst</th>\n",
       "      <td>51.000000</td>\n",
       "    </tr>\n",
       "    <tr>\n",
       "      <th>data engineer</th>\n",
       "      <td>97.166667</td>\n",
       "    </tr>\n",
       "    <tr>\n",
       "      <th>data scientist</th>\n",
       "      <td>119.000000</td>\n",
       "    </tr>\n",
       "    <tr>\n",
       "      <th rowspan=\"5\" valign=\"top\">VA</th>\n",
       "      <th>analyst</th>\n",
       "      <td>66.416667</td>\n",
       "    </tr>\n",
       "    <tr>\n",
       "      <th>na</th>\n",
       "      <td>70.400000</td>\n",
       "    </tr>\n",
       "    <tr>\n",
       "      <th>mle</th>\n",
       "      <td>81.000000</td>\n",
       "    </tr>\n",
       "    <tr>\n",
       "      <th>data engineer</th>\n",
       "      <td>91.500000</td>\n",
       "    </tr>\n",
       "    <tr>\n",
       "      <th>data scientist</th>\n",
       "      <td>94.833333</td>\n",
       "    </tr>\n",
       "    <tr>\n",
       "      <th rowspan=\"3\" valign=\"top\">WA</th>\n",
       "      <th>analyst</th>\n",
       "      <td>50.500000</td>\n",
       "    </tr>\n",
       "    <tr>\n",
       "      <th>data scientist</th>\n",
       "      <td>83.941176</td>\n",
       "    </tr>\n",
       "    <tr>\n",
       "      <th>na</th>\n",
       "      <td>97.500000</td>\n",
       "    </tr>\n",
       "    <tr>\n",
       "      <th rowspan=\"3\" valign=\"top\">WI</th>\n",
       "      <th>na</th>\n",
       "      <td>48.000000</td>\n",
       "    </tr>\n",
       "    <tr>\n",
       "      <th>analyst</th>\n",
       "      <td>54.666667</td>\n",
       "    </tr>\n",
       "    <tr>\n",
       "      <th>data scientist</th>\n",
       "      <td>98.000000</td>\n",
       "    </tr>\n",
       "  </tbody>\n",
       "</table>\n",
       "</div>"
      ],
      "text/plain": [
       "                           avg_salary\n",
       "jobs_state simple_title              \n",
       "AL         na               42.500000\n",
       "           analyst          57.500000\n",
       "           data engineer    64.000000\n",
       "AZ         analyst          51.500000\n",
       "           data engineer    58.200000\n",
       "           data scientist   62.500000\n",
       "           na              124.500000\n",
       "CA         manager          75.555556\n",
       "           analyst          79.750000\n",
       "           na               96.037037\n",
       "           data engineer   113.340000\n",
       "           data scientist  120.066176\n",
       "           mle             153.600000\n",
       "CO         na               27.000000\n",
       "           analyst          29.000000\n",
       "           data engineer    87.000000\n",
       "           mle              93.000000\n",
       "           data scientist   94.333333\n",
       "CT         na               44.000000\n",
       "           data scientist   73.500000\n",
       "DC         analyst          58.000000\n",
       "           data engineer    81.875000\n",
       "           data scientist  103.600000\n",
       "DE         na               23.500000\n",
       "FL         analyst          44.000000\n",
       "           data engineer    75.666667\n",
       "           data scientist   77.714286\n",
       "GA         data scientist   70.666667\n",
       "           na               85.000000\n",
       "IA         analyst          39.500000\n",
       "           data engineer    95.666667\n",
       "ID         analyst          53.250000\n",
       "IL         na               49.333333\n",
       "           analyst          63.500000\n",
       "           data engineer    86.312500\n",
       "           data scientist  101.966667\n",
       "           mle             116.000000\n",
       "           director        182.250000\n",
       "IN         na               66.375000\n",
       "           data scientist   74.500000\n",
       "           data engineer   107.875000\n",
       "KS         mle              82.500000\n",
       "KY         data scientist   73.500000\n",
       "           na              105.000000\n",
       "LA         na               17.500000\n",
       "           analyst          45.000000\n",
       "           data engineer    69.000000\n",
       "MA         analyst          53.750000\n",
       "           manager          80.800000\n",
       "           na               96.945652\n",
       "           data scientist   98.900000\n",
       "           data engineer   100.958333\n",
       "           director        107.416667\n",
       "MD         analyst          74.333333\n",
       "           na               91.531250\n",
       "           data scientist   94.538462\n",
       "           data engineer   104.000000\n",
       "MI         data scientist   84.250000\n",
       "           manager          86.500000\n",
       "MN         analyst          69.500000\n",
       "           data engineer    92.500000\n",
       "MO         manager          42.000000\n",
       "           analyst          56.000000\n",
       "           na               79.666667\n",
       "           data scientist  108.833333\n",
       "NC         na               88.708333\n",
       "           data engineer    99.250000\n",
       "           data scientist  100.000000\n",
       "NE         na               39.625000\n",
       "NJ         analyst          78.916667\n",
       "           na               87.000000\n",
       "           data scientist   91.125000\n",
       "           manager          91.500000\n",
       "           data engineer   107.000000\n",
       "           director        137.000000\n",
       "NM         data scientist   66.166667\n",
       "NY         analyst          62.000000\n",
       "           na               82.166667\n",
       "           data engineer    84.250000\n",
       "           data scientist   99.962500\n",
       "           mle             113.500000\n",
       "OH         analyst          51.875000\n",
       "           data scientist   92.071429\n",
       "           na               93.333333\n",
       "OR         data engineer    72.500000\n",
       "           data scientist   85.000000\n",
       "PA         analyst          58.187500\n",
       "           na               66.812500\n",
       "           data engineer    88.500000\n",
       "           manager          99.333333\n",
       "           data scientist  100.666667\n",
       "           mle             121.642857\n",
       "RI         analyst          89.000000\n",
       "SC         na               62.500000\n",
       "TN         analyst          12.000000\n",
       "           data scientist   87.000000\n",
       "           data engineer    95.250000\n",
       "TX         na               36.714286\n",
       "           data scientist   87.115385\n",
       "           data engineer   107.437500\n",
       "UT         analyst          51.000000\n",
       "           data engineer    97.166667\n",
       "           data scientist  119.000000\n",
       "VA         analyst          66.416667\n",
       "           na               70.400000\n",
       "           mle              81.000000\n",
       "           data engineer    91.500000\n",
       "           data scientist   94.833333\n",
       "WA         analyst          50.500000\n",
       "           data scientist   83.941176\n",
       "           na               97.500000\n",
       "WI         na               48.000000\n",
       "           analyst          54.666667\n",
       "           data scientist   98.000000"
      ]
     },
     "execution_count": 33,
     "metadata": {},
     "output_type": "execute_result"
    }
   ],
   "source": [
    "pd.set_option('display.max_rows', None)\n",
    "pd.pivot_table(df, index=['jobs_state', 'simple_title'], values=['avg_salary'])\\\n",
    ".sort_values(['jobs_state', 'avg_salary'], ascending=True)"
   ]
  },
  {
   "cell_type": "code",
   "execution_count": null,
   "metadata": {},
   "outputs": [],
   "source": []
  },
  {
   "cell_type": "code",
   "execution_count": null,
   "metadata": {},
   "outputs": [],
   "source": []
  },
  {
   "cell_type": "code",
   "execution_count": null,
   "metadata": {},
   "outputs": [],
   "source": []
  }
 ],
 "metadata": {
  "kernelspec": {
   "display_name": "Python 3",
   "language": "python",
   "name": "python3"
  },
  "language_info": {
   "codemirror_mode": {
    "name": "ipython",
    "version": 3
   },
   "file_extension": ".py",
   "mimetype": "text/x-python",
   "name": "python",
   "nbconvert_exporter": "python",
   "pygments_lexer": "ipython3",
   "version": "3.8.0"
  }
 },
 "nbformat": 4,
 "nbformat_minor": 4
}
